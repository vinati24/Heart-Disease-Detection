{
 "cells": [
  {
   "cell_type": "code",
   "execution_count": null,
   "id": "90ab0c5e",
   "metadata": {},
   "outputs": [],
   "source": [
    "# Heart Disease classification using machine learning algorithms like SupportVectorMachines(SVM), K-NearestNeighbors(KNN), Decisiontree, linearregression, randomforest, etc."
   ]
  },
  {
   "cell_type": "code",
   "execution_count": 2,
   "id": "536f4b25",
   "metadata": {},
   "outputs": [],
   "source": [
    "import pandas as pd\n",
    "import numpy as np\n",
    "import seaborn as sns\n",
    "import matplotlib.pyplot as plt\n",
    "from sklearn.model_selection import train_test_split\n",
    "from sklearn.preprocessing import StandardScaler\n",
    "from sklearn.svm import SVC\n",
    "from sklearn.neighbors import KNeighborsClassifier\n",
    "from sklearn.tree import DecisionTreeClassifier\n",
    "from sklearn.linear_model import LogisticRegression\n",
    "from sklearn.ensemble import RandomForestClassifier\n",
    "from sklearn.metrics import classification_report, confusion_matrix\n",
    "from sklearn.metrics import accuracy_score, precision_score, recall_score, f1_score"
   ]
  },
  {
   "cell_type": "code",
   "execution_count": 3,
   "id": "7c8d72d8",
   "metadata": {},
   "outputs": [],
   "source": [
    "import pickle"
   ]
  },
  {
   "cell_type": "code",
   "execution_count": 4,
   "id": "f0d7b393",
   "metadata": {},
   "outputs": [
    {
     "name": "stdout",
     "output_type": "stream",
     "text": [
      "Index(['age', 'sex', 'cp', 'trestbps', 'chol', 'fbs', 'restecg', 'thalach',\n",
      "       'exang', 'oldpeak', 'slope', 'ca', 'thal', 'target'],\n",
      "      dtype='object')\n"
     ]
    }
   ],
   "source": [
    "# Load data\n",
    "data = pd.read_csv(\"heart.csv\")  # Replace \"heart.csv\" with your downloaded file path\n",
    "\n",
    "\n",
    "# Check column names (optional)\n",
    "print(data.columns)\n",
    "\n",
    "categorical_features = [\n",
    "    col for col in ['age', 'sex', 'cp', 'trestbps', 'chol', 'fbs', 'restecg', 'thalach',\n",
    "       'exang', 'oldpeak', 'slope', 'ca', 'thal']  # Adjust based on actual names\n",
    "    if col in data.columns  # Only include columns present in the data\n",
    "]\n",
    "\n",
    "for feature in categorical_features:\n",
    "    data = pd.get_dummies(data, columns=[feature])\n",
    "    \n",
    "    \n",
    "    \n",
    "\n"
   ]
  },
  {
   "cell_type": "code",
   "execution_count": 19,
   "id": "cdaff535",
   "metadata": {},
   "outputs": [
    {
     "name": "stdout",
     "output_type": "stream",
     "text": [
      "            target       age_29       age_34       age_35       age_37  \\\n",
      "count  1025.000000  1025.000000  1025.000000  1025.000000  1025.000000   \n",
      "mean      0.513171     0.003902     0.005854     0.014634     0.005854   \n",
      "std       0.500070     0.062378     0.076322     0.120142     0.076322   \n",
      "min       0.000000     0.000000     0.000000     0.000000     0.000000   \n",
      "25%       0.000000     0.000000     0.000000     0.000000     0.000000   \n",
      "50%       1.000000     0.000000     0.000000     0.000000     0.000000   \n",
      "75%       1.000000     0.000000     0.000000     0.000000     0.000000   \n",
      "max       1.000000     1.000000     1.000000     1.000000     1.000000   \n",
      "\n",
      "            age_38       age_39       age_40       age_41       age_42  ...  \\\n",
      "count  1025.000000  1025.000000  1025.000000  1025.000000  1025.000000  ...   \n",
      "mean      0.011707     0.013659     0.010732     0.031220     0.025366  ...   \n",
      "std       0.107618     0.116126     0.103087     0.173995     0.157310  ...   \n",
      "min       0.000000     0.000000     0.000000     0.000000     0.000000  ...   \n",
      "25%       0.000000     0.000000     0.000000     0.000000     0.000000  ...   \n",
      "50%       0.000000     0.000000     0.000000     0.000000     0.000000  ...   \n",
      "75%       0.000000     0.000000     0.000000     0.000000     0.000000  ...   \n",
      "max       1.000000     1.000000     1.000000     1.000000     1.000000  ...   \n",
      "\n",
      "           slope_2         ca_0         ca_1         ca_2         ca_3  \\\n",
      "count  1025.000000  1025.000000  1025.000000  1025.000000  1025.000000   \n",
      "mean      0.457561     0.563902     0.220488     0.130732     0.067317   \n",
      "std       0.498439     0.496142     0.414778     0.337271     0.250693   \n",
      "min       0.000000     0.000000     0.000000     0.000000     0.000000   \n",
      "25%       0.000000     0.000000     0.000000     0.000000     0.000000   \n",
      "50%       0.000000     1.000000     0.000000     0.000000     0.000000   \n",
      "75%       1.000000     1.000000     0.000000     0.000000     0.000000   \n",
      "max       1.000000     1.000000     1.000000     1.000000     1.000000   \n",
      "\n",
      "              ca_4       thal_0       thal_1       thal_2       thal_3  \n",
      "count  1025.000000  1025.000000  1025.000000  1025.000000  1025.000000  \n",
      "mean      0.017561     0.006829     0.062439     0.530732     0.400000  \n",
      "std       0.131413     0.082397     0.242069     0.499298     0.490137  \n",
      "min       0.000000     0.000000     0.000000     0.000000     0.000000  \n",
      "25%       0.000000     0.000000     0.000000     0.000000     0.000000  \n",
      "50%       0.000000     0.000000     0.000000     1.000000     0.000000  \n",
      "75%       0.000000     0.000000     0.000000     1.000000     1.000000  \n",
      "max       1.000000     1.000000     1.000000     1.000000     1.000000  \n",
      "\n",
      "[8 rows x 399 columns]\n"
     ]
    }
   ],
   "source": [
    "# Summary statistics for all columns\n",
    "print(data.describe())"
   ]
  },
  {
   "cell_type": "code",
   "execution_count": 5,
   "id": "fc055957",
   "metadata": {},
   "outputs": [],
   "source": [
    "# Separate features and target variable\n",
    "X = data.drop(\"target\", axis=1)\n",
    "y = data[\"target\"]\n",
    "\n",
    "# Split data into training and testing sets\n",
    "X_train, X_test, y_train, y_test = train_test_split(X, y, test_size=0.2, random_state=42)\n",
    "\n",
    "# Standardize features\n",
    "scaler = StandardScaler()\n",
    "X_train = scaler.fit_transform(X_train)\n",
    "X_test = scaler.transform(X_test)"
   ]
  },
  {
   "cell_type": "code",
   "execution_count": null,
   "id": "007a35a0",
   "metadata": {},
   "outputs": [],
   "source": []
  },
  {
   "cell_type": "code",
   "execution_count": 6,
   "id": "eec692a5",
   "metadata": {},
   "outputs": [
    {
     "name": "stdout",
     "output_type": "stream",
     "text": [
      "** Model: SVM **\n",
      "Accuracy: 0.9854\n",
      "Precision: 1.0000\n",
      "Recall: 0.9709\n",
      "F1-Score: 0.9852\n",
      "------------------------------\n",
      "** Model: KNN **\n",
      "Accuracy: 0.7707\n",
      "Precision: 0.7593\n",
      "Recall: 0.7961\n",
      "F1-Score: 0.7773\n",
      "------------------------------\n",
      "** Model: Decision Tree **\n",
      "Accuracy: 0.8146\n",
      "Precision: 0.7928\n",
      "Recall: 0.8544\n",
      "F1-Score: 0.8224\n",
      "------------------------------\n",
      "** Model: Logistic Regression **\n",
      "Accuracy: 1.0000\n",
      "Precision: 1.0000\n",
      "Recall: 1.0000\n",
      "F1-Score: 1.0000\n",
      "------------------------------\n",
      "** Model: Random Forest **\n",
      "Accuracy: 0.9854\n",
      "Precision: 1.0000\n",
      "Recall: 0.9709\n",
      "F1-Score: 0.9852\n",
      "------------------------------\n"
     ]
    }
   ],
   "source": [
    "# Define and evaluate different models\n",
    "models = []\n",
    "models.append((\"SVM\", SVC(kernel=\"linear\")))\n",
    "models.append((\"KNN\", KNeighborsClassifier(n_neighbors=5)))\n",
    "models.append((\"Decision Tree\", DecisionTreeClassifier(max_depth=3)))\n",
    "models.append((\"Logistic Regression\", LogisticRegression()))\n",
    "models.append((\"Random Forest\", RandomForestClassifier(n_estimators=100)))\n",
    "\n",
    "for name, model in models:\n",
    "    # Train the model\n",
    "    model.fit(X_train, y_train)\n",
    "\n",
    "    # Make predictions on testing data\n",
    "    y_pred = model.predict(X_test)\n",
    "\n",
    "    # Evaluate model performance\n",
    "    accuracy = accuracy_score(y_test, y_pred)\n",
    "    precision = precision_score(y_test, y_pred)\n",
    "    recall = recall_score(y_test, y_pred)\n",
    "    f1 = f1_score(y_test, y_pred)\n",
    "\n",
    "    print(f\"** Model: {name} **\")\n",
    "    print(f\"Accuracy: {accuracy:.4f}\")\n",
    "    print(f\"Precision: {precision:.4f}\")\n",
    "    print(f\"Recall: {recall:.4f}\")\n",
    "    print(f\"F1-Score: {f1:.4f}\")\n",
    "    print(\"-\" * 30)\n",
    "    \n",
    "    \n",
    "\n",
    "\n",
    "# Choose the best model based on your evaluation criteria\n",
    "\n"
   ]
  },
  {
   "cell_type": "code",
   "execution_count": 7,
   "id": "1a855b75",
   "metadata": {},
   "outputs": [],
   "source": [
    "# Lists to store metrics for each model\n",
    "model_names = []\n",
    "accuracies = []\n",
    "precisions = []\n",
    "recalls = []\n",
    "f1_scores = []\n",
    "\n",
    "for name, model in models:\n",
    "    # Train the model\n",
    "    model.fit(X_train, y_train)\n",
    "\n",
    "    # Make predictions on testing data\n",
    "    y_pred = model.predict(X_test)\n",
    "\n",
    "    # Evaluate model performance\n",
    "    accuracy = accuracy_score(y_test, y_pred)\n",
    "    precision = precision_score(y_test, y_pred)\n",
    "    recall = recall_score(y_test, y_pred)\n",
    "    f1 = f1_score(y_test, y_pred)\n",
    "    \n",
    "    # Store metrics for plotting\n",
    "    model_names.append(name)\n",
    "    accuracies.append(accuracy)\n",
    "    precisions.append(precision)\n",
    "    recalls.append(recall)\n",
    "    f1_scores.append(f1)"
   ]
  },
  {
   "cell_type": "code",
   "execution_count": 8,
   "id": "24b5a7b1",
   "metadata": {},
   "outputs": [
    {
     "data": {
      "image/png": "[encoded data removed]",
      "text/plain": [
       "<Figure size 864x432 with 1 Axes>"
      ]
     },
     "metadata": {
      "needs_background": "light"
     },
     "output_type": "display_data"
    }
   ],
   "source": [
    "# Set up bar chart for comparison\n",
    "x = np.arange(len(model_names))  # Label locations\n",
    "\n",
    "# Plotting the metrics\n",
    "plt.figure(figsize=(12, 6))\n",
    "\n",
    "# Accuracy\n",
    "plt.bar(x - 0.3, accuracies, width=0.2, label='Accuracy', color='skyblue')\n",
    "# Precision\n",
    "plt.bar(x - 0.1, precisions, width=0.2, label='Precision', color='lightgreen')\n",
    "# Recall\n",
    "plt.bar(x + 0.1, recalls, width=0.2, label='Recall', color='lightcoral')\n",
    "# F1 Score\n",
    "plt.bar(x + 0.3, f1_scores, width=0.2, label='F1-Score', color='orange')\n",
    "\n",
    "# Add labels and title\n",
    "plt.xlabel(\"Model\")\n",
    "plt.ylabel(\"Score\")\n",
    "plt.title(\"Comparison of Model Performance Metrics\")\n",
    "plt.xticks(x, model_names)  # Add model names as x-axis labels\n",
    "plt.legend()\n",
    "plt.tight_layout()\n",
    "plt.show()\n"
   ]
  },
  {
   "cell_type": "code",
   "execution_count": 10,
   "id": "c3412910",
   "metadata": {},
   "outputs": [
    {
     "data": {
      "image/png": "[encoded data removed]",
      "text/plain": [
       "<Figure size 720x432 with 1 Axes>"
      ]
     },
     "metadata": {
      "needs_background": "light"
     },
     "output_type": "display_data"
    }
   ],
   "source": [
    "import matplotlib.pyplot as plt\n",
    "import numpy as np\n",
    "from sklearn.metrics import accuracy_score, precision_score, recall_score, f1_score, roc_curve, auc\n",
    "\n",
    "plt.figure(figsize=(10, 6))\n",
    "\n",
    "for name, model in models:\n",
    "    # Check if the model has a predict_proba method\n",
    "    if hasattr(model, \"predict_proba\"):\n",
    "        y_prob = model.predict_proba(X_test)[:, 1]  # Use probabilities for ROC curve\n",
    "    else:\n",
    "        y_prob = model.decision_function(X_test)  # For SVMs, use decision function\n",
    "    \n",
    "    # Calculate ROC curve\n",
    "    fpr, tpr, _ = roc_curve(y_test, y_prob)\n",
    "    roc_auc = auc(fpr, tpr)\n",
    "    \n",
    "    # Plot ROC curve\n",
    "    plt.plot(fpr, tpr, label=f'{name} (AUC = {roc_auc:.2f})')\n",
    "\n",
    "# Plot settings\n",
    "plt.plot([0, 1], [0, 1], color='navy', linestyle='--')  # Diagonal reference line\n",
    "plt.xlim([0.0, 1.0])\n",
    "plt.ylim([0.0, 1.05])\n",
    "plt.xlabel('False Positive Rate')\n",
    "plt.ylabel('True Positive Rate')\n",
    "plt.title('ROC Curve Comparison of Different Models')\n",
    "plt.legend(loc=\"lower right\")\n",
    "plt.tight_layout()\n",
    "plt.show()\n"
   ]
  },
  {
   "cell_type": "code",
   "execution_count": 11,
   "id": "ee5d7954",
   "metadata": {},
   "outputs": [],
   "source": [
    "# Sample prediction (assuming X_test has new data)\n",
    "# Choose the model you want to use for prediction (e.g., best performing model)\n",
    "chosen_model = models[4][1]  # Assuming the  model (random forest) is chosen \n",
    "\n",
    "\n",
    "#Here we are using random forest for prediction based on the accuracy score\n",
    "\n",
    "# Select a sample from testing data\n",
    "new_data = X_test[56, :]  # Use NumPy indexing instead of iloc\n",
    "\n",
    "# Predict using the chosen model\n",
    "new_data_pred = chosen_model.predict([new_data])\n",
    "\n"
   ]
  },
  {
   "cell_type": "code",
   "execution_count": 12,
   "id": "4bf81355",
   "metadata": {},
   "outputs": [],
   "source": [
    "# saving the model\n",
    "\n",
    "with open('chosen_model.pkl', 'wb') as file:\n",
    "    pickle.dump(chosen_model, file)"
   ]
  },
  {
   "cell_type": "code",
   "execution_count": 13,
   "id": "a53e36f5",
   "metadata": {},
   "outputs": [
    {
     "name": "stdout",
     "output_type": "stream",
     "text": [
      "\n",
      "Sample Prediction:\n",
      "Predicted: Person is less likely to have heart disease\n",
      "Note: This is just a prediction based on the model. Always consult a medical professional for diagnosis and treatment.\n"
     ]
    }
   ],
   "source": [
    "print(\"\\nSample Prediction:\")\n",
    "if new_data_pred[0] == 1:\n",
    "    print(\"Predicted: Person has heart disease\")\n",
    "else:\n",
    "    print(\"Predicted: Person is less likely to have heart disease\")\n",
    "\n",
    "print(\"Note: This is just a prediction based on the model. Always consult a medical professional for diagnosis and treatment.\")"
   ]
  },
  {
   "cell_type": "code",
   "execution_count": null,
   "id": "c3d4b299",
   "metadata": {},
   "outputs": [],
   "source": []
  }
 ],
 "metadata": {
  "kernelspec": {
   "display_name": "Python 3 (ipykernel)",
   "language": "python",
   "name": "python3"
  },
  "language_info": {
   "codemirror_mode": {
    "name": "ipython",
    "version": 3
   },
   "file_extension": ".py",
   "mimetype": "text/x-python",
   "name": "python",
   "nbconvert_exporter": "python",
   "pygments_lexer": "ipython3",
   "version": "3.9.12"
  }
 },
 "nbformat": 4,
 "nbformat_minor": 5
}
